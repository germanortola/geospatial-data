{
 "cells": [
  {
   "cell_type": "code",
   "execution_count": 87,
   "metadata": {},
   "outputs": [],
   "source": [
    "from pymongo import MongoClient\n",
    "import numpy as np\n",
    "import pandas as pd\n",
    "import time\n",
    "import geopandas as gdp\n",
    "from cartoframes.viz import Map, Layer, popup_element\n",
    "from dotenv import load_dotenv\n",
    "from getpass import getpass\n"
   ]
  },
  {
   "cell_type": "code",
   "execution_count": 51,
   "metadata": {},
   "outputs": [],
   "source": [
    "client = MongoClient(\"localhost:27017\")\n",
    "\n",
    "db = client[\"ironhack\"]\n"
   ]
  },
  {
   "cell_type": "code",
   "execution_count": 52,
   "metadata": {},
   "outputs": [
    {
     "data": {
      "text/plain": [
       "['nyrest', 'Crunchbase', 'restaurants', 'nyneigh']"
      ]
     },
     "execution_count": 52,
     "metadata": {},
     "output_type": "execute_result"
    }
   ],
   "source": [
    "db.list_collection_names()"
   ]
  },
  {
   "cell_type": "code",
   "execution_count": 53,
   "metadata": {},
   "outputs": [],
   "source": [
    "c = db.get_collection(\"Crunchbase\")"
   ]
  },
  {
   "cell_type": "code",
   "execution_count": 6,
   "metadata": {},
   "outputs": [],
   "source": [
    "token = getpass()"
   ]
  },
  {
   "cell_type": "code",
   "execution_count": 54,
   "metadata": {},
   "outputs": [],
   "source": [
    "company_category = set()"
   ]
  },
  {
   "cell_type": "code",
   "execution_count": 78,
   "metadata": {},
   "outputs": [],
   "source": [
    "tech_name_regex = {\"name\":{\"$regex\":\"^(tech|frontend|backend|web develop|ux develop|ui develop|gaming|gamer)\", \"$options\":\"i\"}}\n",
    "tech_category_regex ={\"category_code\":{\"$regex\":\"^(tech|frontend|backend|web develop|ux develop|ui develop|gaming|gamer)\", \"$options\":\"i\"}}\n",
    "tech_description_regex = {\"description\":{\"$regex\":\"^(tech|frontend|backend|web develop|ux develop|ui develop|gaming|gamer)\", \"$options\":\"i\"}}\n",
    "tech_tags_regex = {\"tag_list\":{\"$regex\":\"^(tech|frontend|backend|web develop|ux develop|ui develop|gaming|gamer)\", \"$options\":\"i\"}}\n",
    "\n",
    "tech_cat_or_descr_or_tags = {\"$or\": [tech_name_regex, tech_category_regex, tech_description_regex, tech_tags_regex]}\n",
    "\n",
    "projection_name_category_tags = {\"_id\" : 0, \n",
    "                                \"name\" : 1, \n",
    "                                \"category_code\": 1, \n",
    "                                \"tag_list\": 1,\n",
    "                                \"total_money_raised\": 1,\n",
    "                                \"offices.country_code\" : 1, \n",
    "                                \"offices.city\" : 1, \n",
    "                                \"offices.zip_code\" : 1, \n",
    "                                \"offices.latitude\" : 1, \n",
    "                                \"offices.longitude\" : 1}\n",
    "\n",
    "tech_companies_list = list(c.find(tech_cat_or_descr_or_tags, projection_name_category_tags).sort(\"offices.city\", 1))"
   ]
  },
  {
   "cell_type": "code",
   "execution_count": 79,
   "metadata": {},
   "outputs": [],
   "source": [
    "df_tech_general = pd.DataFrame(tech_companies_list)"
   ]
  },
  {
   "cell_type": "code",
   "execution_count": 97,
   "metadata": {},
   "outputs": [
    {
     "data": {
      "text/html": [
       "<div>\n",
       "<style scoped>\n",
       "    .dataframe tbody tr th:only-of-type {\n",
       "        vertical-align: middle;\n",
       "    }\n",
       "\n",
       "    .dataframe tbody tr th {\n",
       "        vertical-align: top;\n",
       "    }\n",
       "\n",
       "    .dataframe thead th {\n",
       "        text-align: right;\n",
       "    }\n",
       "</style>\n",
       "<table border=\"1\" class=\"dataframe\">\n",
       "  <thead>\n",
       "    <tr style=\"text-align: right;\">\n",
       "      <th></th>\n",
       "      <th>name</th>\n",
       "      <th>category_code</th>\n",
       "      <th>tag_list</th>\n",
       "      <th>total_money_raised</th>\n",
       "      <th>offices</th>\n",
       "    </tr>\n",
       "  </thead>\n",
       "  <tbody>\n",
       "    <tr>\n",
       "      <th>203</th>\n",
       "      <td>Atlantic BT</td>\n",
       "      <td>web</td>\n",
       "      <td>web-development, web-design, internet-marketin...</td>\n",
       "      <td>$0</td>\n",
       "      <td>[{'zip_code': '27613', 'city': 'Raleigh', 'cou...</td>\n",
       "    </tr>\n",
       "    <tr>\n",
       "      <th>123</th>\n",
       "      <td>Burt</td>\n",
       "      <td>advertising</td>\n",
       "      <td>techcrunch50, tc50, advertising, reactive-adve...</td>\n",
       "      <td>$3.5M</td>\n",
       "      <td>[{'zip_code': '41125', 'city': 'Gothenburg', '...</td>\n",
       "    </tr>\n",
       "    <tr>\n",
       "      <th>19</th>\n",
       "      <td>MIXTT</td>\n",
       "      <td>web</td>\n",
       "      <td>techcrunch50, tc50, social-networking, social-...</td>\n",
       "      <td>$0</td>\n",
       "      <td>[]</td>\n",
       "    </tr>\n",
       "    <tr>\n",
       "      <th>85</th>\n",
       "      <td>qcue</td>\n",
       "      <td>software</td>\n",
       "      <td>technology, consulting, software, pricing, pri...</td>\n",
       "      <td>$1.13M</td>\n",
       "      <td>[{'zip_code': '78759', 'city': 'Austin', 'coun...</td>\n",
       "    </tr>\n",
       "    <tr>\n",
       "      <th>234</th>\n",
       "      <td>TechWeb</td>\n",
       "      <td>other</td>\n",
       "      <td></td>\n",
       "      <td>$0</td>\n",
       "      <td>[{'zip_code': '94107', 'city': 'San Francisco'...</td>\n",
       "    </tr>\n",
       "  </tbody>\n",
       "</table>\n",
       "</div>"
      ],
      "text/plain": [
       "            name category_code  \\\n",
       "203  Atlantic BT           web   \n",
       "123         Burt   advertising   \n",
       "19         MIXTT           web   \n",
       "85          qcue      software   \n",
       "234      TechWeb         other   \n",
       "\n",
       "                                              tag_list total_money_raised  \\\n",
       "203  web-development, web-design, internet-marketin...                 $0   \n",
       "123  techcrunch50, tc50, advertising, reactive-adve...              $3.5M   \n",
       "19   techcrunch50, tc50, social-networking, social-...                 $0   \n",
       "85   technology, consulting, software, pricing, pri...             $1.13M   \n",
       "234                                                                    $0   \n",
       "\n",
       "                                               offices  \n",
       "203  [{'zip_code': '27613', 'city': 'Raleigh', 'cou...  \n",
       "123  [{'zip_code': '41125', 'city': 'Gothenburg', '...  \n",
       "19                                                  []  \n",
       "85   [{'zip_code': '78759', 'city': 'Austin', 'coun...  \n",
       "234  [{'zip_code': '94107', 'city': 'San Francisco'...  "
      ]
     },
     "execution_count": 97,
     "metadata": {},
     "output_type": "execute_result"
    }
   ],
   "source": [
    "df_tech_general.sample(5)"
   ]
  },
  {
   "cell_type": "code",
   "execution_count": 99,
   "metadata": {},
   "outputs": [],
   "source": [
    "def clean_monetary_values(dataframe, column):\n",
    "    \n",
    "    \"\"\"\n",
    "    This function works with vectorized operations instead of iterrows() looping.\n",
    "    It takes a DataFrame and a column name as input, and converts the monetary values\n",
    "    listed in the format of \"$X.XM\" or \"$XXXk\" to integers. Then, it multiplies according\n",
    "    to the letter indicator.\n",
    "    It drops the temporary column for letters, and returns the updated clean DataFrame.\n",
    "    \"\"\"\n",
    "\n",
    "\n",
    "    dataframe[['value', 'letter']] = dataframe[column].str.extract('(\\d+\\.\\d+|\\d+)([MmKk])')\n",
    "    dataframe['value'] = dataframe['value'].astype(int)\n",
    "    dataframe['value'] = dataframe['value'].mul(1000000) if dataframe['letter'] == 'M' else dataframe['value'].mul(1000)\n",
    "    dataframe.drop('letter', axis=1, inplace=True)\n",
    "    dataframe.rename(columns={'value': column}, inplace=True)\n",
    "    return dataframe"
   ]
  },
  {
   "cell_type": "code",
   "execution_count": null,
   "metadata": {},
   "outputs": [],
   "source": []
  },
  {
   "cell_type": "code",
   "execution_count": null,
   "metadata": {},
   "outputs": [],
   "source": []
  },
  {
   "cell_type": "code",
   "execution_count": null,
   "metadata": {},
   "outputs": [],
   "source": []
  },
  {
   "cell_type": "code",
   "execution_count": 81,
   "metadata": {},
   "outputs": [],
   "source": [
    "design_name_regex = {\"name\":{\"$regex\":\"design\", \"$options\":\"i\"}}\n",
    "design_category_regex ={\"category_code\":{\"$regex\":\"design\", \"$options\":\"i\"}}\n",
    "design_description_regex = {\"description\":{\"$regex\":\"design\", \"$options\":\"i\"}}\n",
    "design_tags_regex = {\"tag_list\":{\"$regex\":\"design\", \"$options\":\"i\"}}\n",
    "\n",
    "design_cat_or_descr_or_tags = {\"$or\": [design_name_regex, design_category_regex, design_description_regex, design_tags_regex]}\n",
    "\n",
    "design_projection_name_category_tags = {\"_id\" : 0, \n",
    "                                        \"name\" : 1, \n",
    "                                        \"category_code\": 1, \n",
    "                                        \"tag_list\": 1,\n",
    "                                        \"offices.country_code\" : 1, \n",
    "                                        \"offices.city\" : 1, \n",
    "                                        \"offices.zip_code\" : 1, \n",
    "                                        \"offices.latitude\" : 1, \n",
    "                                        \"offices.longitude\" : 1}\n",
    "\n",
    "design_companies_list = list(c.find(design_cat_or_descr_or_tags, design_projection_name_category_tags).sort(\"offices.city\", 1))"
   ]
  },
  {
   "cell_type": "code",
   "execution_count": 82,
   "metadata": {},
   "outputs": [
    {
     "data": {
      "text/plain": [
       "779"
      ]
     },
     "execution_count": 82,
     "metadata": {},
     "output_type": "execute_result"
    }
   ],
   "source": [
    "len(design_companies_list)"
   ]
  },
  {
   "cell_type": "code",
   "execution_count": 83,
   "metadata": {},
   "outputs": [],
   "source": [
    "df_design = pd.DataFrame(design_companies_list)"
   ]
  },
  {
   "cell_type": "code",
   "execution_count": 84,
   "metadata": {},
   "outputs": [
    {
     "data": {
      "text/html": [
       "<div>\n",
       "<style scoped>\n",
       "    .dataframe tbody tr th:only-of-type {\n",
       "        vertical-align: middle;\n",
       "    }\n",
       "\n",
       "    .dataframe tbody tr th {\n",
       "        vertical-align: top;\n",
       "    }\n",
       "\n",
       "    .dataframe thead th {\n",
       "        text-align: right;\n",
       "    }\n",
       "</style>\n",
       "<table border=\"1\" class=\"dataframe\">\n",
       "  <thead>\n",
       "    <tr style=\"text-align: right;\">\n",
       "      <th></th>\n",
       "      <th>name</th>\n",
       "      <th>category_code</th>\n",
       "      <th>tag_list</th>\n",
       "      <th>offices</th>\n",
       "    </tr>\n",
       "  </thead>\n",
       "  <tbody>\n",
       "    <tr>\n",
       "      <th>523</th>\n",
       "      <td>n3w media</td>\n",
       "      <td>consulting</td>\n",
       "      <td>web-design, digital, marketing, social-media</td>\n",
       "      <td>[{'zip_code': 'MK9 2AH', 'city': 'Milton Keyne...</td>\n",
       "    </tr>\n",
       "  </tbody>\n",
       "</table>\n",
       "</div>"
      ],
      "text/plain": [
       "          name category_code                                      tag_list  \\\n",
       "523  n3w media    consulting  web-design, digital, marketing, social-media   \n",
       "\n",
       "                                               offices  \n",
       "523  [{'zip_code': 'MK9 2AH', 'city': 'Milton Keyne...  "
      ]
     },
     "execution_count": 84,
     "metadata": {},
     "output_type": "execute_result"
    }
   ],
   "source": [
    "df_design.sample()"
   ]
  },
  {
   "cell_type": "code",
   "execution_count": 88,
   "metadata": {},
   "outputs": [],
   "source": [
    "def split_dic_df_columns(dataframe, dataframe_column):\n",
    "    \n",
    "    \"\"\"This funcion takes 2 parameters:\n",
    "    1. name of given dataframe\n",
    "    2. name of column that contains dictionaries as values\n",
    "\n",
    "    It will iterate over the rows, then the specified column, checking for missing values.\n",
    "    If the values is not missing, then iterate over each \n",
    "    dictionary item, and chek if the column to be created already exists.\n",
    "    Then initialize the column values to zero, and then update values\n",
    "    with the ones corresponding in the dictionary.\n",
    "    return the original dataframe updated with a new column per each \n",
    "    key in the dictionaries, and its values.\n",
    "    \"\"\"\n",
    "    for i, row in dataframe.iterrows():\n",
    "        for j in row[dataframe_column]:\n",
    "            if not pd.isnull(j):\n",
    "                for x, y in j.items():\n",
    "                    if x not in dataframe.columns:\n",
    "                        dataframe[str(x)] = np.nan\n",
    "                    dataframe.at[i, x] = y\n",
    "    return dataframe\n",
    "\n"
   ]
  },
  {
   "cell_type": "code",
   "execution_count": null,
   "metadata": {},
   "outputs": [],
   "source": [
    "split_dic_df_columns(df_design, \"offices\")"
   ]
  },
  {
   "cell_type": "code",
   "execution_count": 95,
   "metadata": {},
   "outputs": [
    {
     "data": {
      "text/html": [
       "<div>\n",
       "<style scoped>\n",
       "    .dataframe tbody tr th:only-of-type {\n",
       "        vertical-align: middle;\n",
       "    }\n",
       "\n",
       "    .dataframe tbody tr th {\n",
       "        vertical-align: top;\n",
       "    }\n",
       "\n",
       "    .dataframe thead th {\n",
       "        text-align: right;\n",
       "    }\n",
       "</style>\n",
       "<table border=\"1\" class=\"dataframe\">\n",
       "  <thead>\n",
       "    <tr style=\"text-align: right;\">\n",
       "      <th></th>\n",
       "      <th>name</th>\n",
       "      <th>category_code</th>\n",
       "      <th>tag_list</th>\n",
       "      <th>offices</th>\n",
       "      <th>zip_code</th>\n",
       "      <th>city</th>\n",
       "      <th>country_code</th>\n",
       "      <th>latitude</th>\n",
       "      <th>longitude</th>\n",
       "    </tr>\n",
       "  </thead>\n",
       "  <tbody>\n",
       "    <tr>\n",
       "      <th>605</th>\n",
       "      <td>Mobclix</td>\n",
       "      <td>mobile</td>\n",
       "      <td>techcrunch50, tc50, iphone, analytics, free-de...</td>\n",
       "      <td>[{'zip_code': '94301', 'city': 'Palo Alto', 'c...</td>\n",
       "      <td>94301</td>\n",
       "      <td>Palo Alto</td>\n",
       "      <td>USA</td>\n",
       "      <td>37.448598</td>\n",
       "      <td>-122.158497</td>\n",
       "    </tr>\n",
       "    <tr>\n",
       "      <th>129</th>\n",
       "      <td>Focus-online</td>\n",
       "      <td>ecommerce</td>\n",
       "      <td>designer-sunglasses, designer-frames, optical-...</td>\n",
       "      <td>[]</td>\n",
       "      <td>NaN</td>\n",
       "      <td>NaN</td>\n",
       "      <td>NaN</td>\n",
       "      <td>NaN</td>\n",
       "      <td>NaN</td>\n",
       "    </tr>\n",
       "    <tr>\n",
       "      <th>209</th>\n",
       "      <td>MEDDIA</td>\n",
       "      <td>public_relations</td>\n",
       "      <td>knowledge-managent, web-design, consulting, di...</td>\n",
       "      <td>[{'zip_code': '08013', 'city': 'Barcelona', 'c...</td>\n",
       "      <td>08013</td>\n",
       "      <td>Barcelona</td>\n",
       "      <td>ESP</td>\n",
       "      <td>41.401809</td>\n",
       "      <td>2.181565</td>\n",
       "    </tr>\n",
       "  </tbody>\n",
       "</table>\n",
       "</div>"
      ],
      "text/plain": [
       "             name     category_code  \\\n",
       "605       Mobclix            mobile   \n",
       "129  Focus-online         ecommerce   \n",
       "209        MEDDIA  public_relations   \n",
       "\n",
       "                                              tag_list  \\\n",
       "605  techcrunch50, tc50, iphone, analytics, free-de...   \n",
       "129  designer-sunglasses, designer-frames, optical-...   \n",
       "209  knowledge-managent, web-design, consulting, di...   \n",
       "\n",
       "                                               offices zip_code       city  \\\n",
       "605  [{'zip_code': '94301', 'city': 'Palo Alto', 'c...    94301  Palo Alto   \n",
       "129                                                 []      NaN        NaN   \n",
       "209  [{'zip_code': '08013', 'city': 'Barcelona', 'c...    08013  Barcelona   \n",
       "\n",
       "    country_code   latitude   longitude  \n",
       "605          USA  37.448598 -122.158497  \n",
       "129          NaN        NaN         NaN  \n",
       "209          ESP  41.401809    2.181565  "
      ]
     },
     "execution_count": 95,
     "metadata": {},
     "output_type": "execute_result"
    }
   ],
   "source": [
    "df_design.sample(3)"
   ]
  },
  {
   "cell_type": "code",
   "execution_count": null,
   "metadata": {},
   "outputs": [],
   "source": []
  },
  {
   "cell_type": "code",
   "execution_count": null,
   "metadata": {},
   "outputs": [],
   "source": []
  },
  {
   "cell_type": "code",
   "execution_count": null,
   "metadata": {},
   "outputs": [],
   "source": []
  }
 ],
 "metadata": {
  "kernelspec": {
   "display_name": "ironhack",
   "language": "python",
   "name": "python3"
  },
  "language_info": {
   "codemirror_mode": {
    "name": "ipython",
    "version": 3
   },
   "file_extension": ".py",
   "mimetype": "text/x-python",
   "name": "python",
   "nbconvert_exporter": "python",
   "pygments_lexer": "ipython3",
   "version": "3.10.4"
  },
  "orig_nbformat": 4,
  "vscode": {
   "interpreter": {
    "hash": "4fb3542bd4955df1568bd30556108f2a509a772a1c7029bb09d83fc983cd9288"
   }
  }
 },
 "nbformat": 4,
 "nbformat_minor": 2
}
