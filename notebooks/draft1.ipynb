{
 "cells": [
  {
   "cell_type": "code",
   "execution_count": 7,
   "metadata": {},
   "outputs": [],
   "source": [
    "from pymongo import MongoClient\n",
    "import pandas as pd\n",
    "import time\n",
    "import geopandas as gdp\n",
    "from cartoframes.viz import Map, Layer, popup_element\n",
    "from dotenv import load_dotenv\n",
    "from getpass import getpass\n"
   ]
  },
  {
   "cell_type": "code",
   "execution_count": 8,
   "metadata": {},
   "outputs": [],
   "source": [
    "client = MongoClient(\"localhost:27017\")\n",
    "\n",
    "db = client[\"ironhack\"]\n"
   ]
  },
  {
   "cell_type": "code",
   "execution_count": 9,
   "metadata": {},
   "outputs": [
    {
     "data": {
      "text/plain": [
       "['nyrest', 'Crunchbase', 'restaurants', 'nyneigh']"
      ]
     },
     "execution_count": 9,
     "metadata": {},
     "output_type": "execute_result"
    }
   ],
   "source": [
    "db.list_collection_names()"
   ]
  },
  {
   "cell_type": "code",
   "execution_count": 10,
   "metadata": {},
   "outputs": [],
   "source": [
    "c = db.get_collection(\"Crunchbase\")"
   ]
  },
  {
   "cell_type": "code",
   "execution_count": 12,
   "metadata": {},
   "outputs": [],
   "source": [
    "token = getpass()"
   ]
  },
  {
   "cell_type": "code",
   "execution_count": 13,
   "metadata": {},
   "outputs": [],
   "source": [
    "company_category = set()"
   ]
  },
  {
   "cell_type": "code",
   "execution_count": null,
   "metadata": {},
   "outputs": [],
   "source": [
    "# category1 = { \"category_code\" : {\"$exists\": true, \"$ne\": \"null\"}}\n",
    "category_regex = {\"category_code\": {\"$regex\": \"(?i)^(?:u[ix] develop|frontend|backend|gam(?:ing|er)|tech)$\"}}\n",
    "description_regex = {\"description\": {\"$regex\": \"(?i)^(?:u[ix] develop|frontend|backend|gam(?:ing|er)|tech)$\"}}\n",
    "tags_regex = {\"tag_list\": {\"$regex\": \"(?i)^(?:u[ix] develop|frontend|backend|gam(?:ing|er)|tech)$\"}}\n",
    "\n",
    "projection_name_category_tags = {\"_id\"=0, \"name\"=1, \"offices.0.country_code\"=1, \"offices.0.city\"=1, \"offices.0.zip_code\"=1, \"offices.0.latitude\"=1, \"offices.0.longitude\"=1}\n",
    "\n",
    "list(c.find)"
   ]
  },
  {
   "cell_type": "code",
   "execution_count": null,
   "metadata": {},
   "outputs": [],
   "source": []
  },
  {
   "cell_type": "code",
   "execution_count": null,
   "metadata": {},
   "outputs": [],
   "source": []
  },
  {
   "cell_type": "code",
   "execution_count": null,
   "metadata": {},
   "outputs": [],
   "source": []
  },
  {
   "cell_type": "code",
   "execution_count": null,
   "metadata": {},
   "outputs": [],
   "source": []
  },
  {
   "cell_type": "code",
   "execution_count": null,
   "metadata": {},
   "outputs": [],
   "source": []
  },
  {
   "cell_type": "code",
   "execution_count": null,
   "metadata": {},
   "outputs": [],
   "source": []
  },
  {
   "cell_type": "code",
   "execution_count": null,
   "metadata": {},
   "outputs": [],
   "source": []
  },
  {
   "cell_type": "code",
   "execution_count": null,
   "metadata": {},
   "outputs": [],
   "source": []
  }
 ],
 "metadata": {
  "kernelspec": {
   "display_name": "ironhack",
   "language": "python",
   "name": "python3"
  },
  "language_info": {
   "codemirror_mode": {
    "name": "ipython",
    "version": 3
   },
   "file_extension": ".py",
   "mimetype": "text/x-python",
   "name": "python",
   "nbconvert_exporter": "python",
   "pygments_lexer": "ipython3",
   "version": "3.10.4"
  },
  "orig_nbformat": 4,
  "vscode": {
   "interpreter": {
    "hash": "4fb3542bd4955df1568bd30556108f2a509a772a1c7029bb09d83fc983cd9288"
   }
  }
 },
 "nbformat": 4,
 "nbformat_minor": 2
}
