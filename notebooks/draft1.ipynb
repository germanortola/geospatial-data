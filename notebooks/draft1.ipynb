{
 "cells": [
  {
   "cell_type": "code",
   "execution_count": 1,
   "metadata": {},
   "outputs": [],
   "source": [
    "from pymongo import MongoClient\n",
    "import pandas as pd\n",
    "import time\n",
    "import geopandas as gdp\n",
    "from cartoframes.viz import Map, Layer, popup_element\n",
    "from dotenv import load_dotenv\n",
    "from getpass import getpass\n"
   ]
  },
  {
   "cell_type": "code",
   "execution_count": 2,
   "metadata": {},
   "outputs": [],
   "source": [
    "client = MongoClient(\"localhost:27017\")\n",
    "\n",
    "db = client[\"ironhack\"]\n"
   ]
  },
  {
   "cell_type": "code",
   "execution_count": 3,
   "metadata": {},
   "outputs": [
    {
     "data": {
      "text/plain": [
       "['nyrest', 'Crunchbase', 'restaurants', 'nyneigh']"
      ]
     },
     "execution_count": 3,
     "metadata": {},
     "output_type": "execute_result"
    }
   ],
   "source": [
    "db.list_collection_names()"
   ]
  },
  {
   "cell_type": "code",
   "execution_count": 4,
   "metadata": {},
   "outputs": [],
   "source": [
    "c = db.get_collection(\"Crunchbase\")"
   ]
  },
  {
   "cell_type": "code",
   "execution_count": 6,
   "metadata": {},
   "outputs": [],
   "source": [
    "token = getpass()"
   ]
  },
  {
   "cell_type": "code",
   "execution_count": 8,
   "metadata": {},
   "outputs": [],
   "source": [
    "company_category = set()"
   ]
  },
  {
   "cell_type": "code",
   "execution_count": 9,
   "metadata": {},
   "outputs": [],
   "source": [
    "tech_name_regex = {\"name\":{\"$regex\":\"^(tech|frontend|backend|web develop|ux develop|ui develop|gaming|gamer)\", \"$options\":\"i\"}}\n",
    "tech_category_regex ={\"category_code\":{\"$regex\":\"^(tech|frontend|backend|web develop|ux develop|ui develop|gaming|gamer)\", \"$options\":\"i\"}}\n",
    "tech_description_regex = {\"description\":{\"$regex\":\"^(tech|frontend|backend|web develop|ux develop|ui develop|gaming|gamer)\", \"$options\":\"i\"}}\n",
    "tech_tags_regex = {\"tag_list\":{\"$regex\":\"^(tech|frontend|backend|web develop|ux develop|ui develop|gaming|gamer)\", \"$options\":\"i\"}}\n",
    "\n",
    "tech_cat_or_descr_or_tags = {\"$or\": [tech_name_regex, tech_category_regex, tech_description_regex, tech_tags_regex]}\n",
    "\n",
    "projection_name_category_tags = {\"_id\" : 0, \n",
    "                                \"name\" : 1, \n",
    "                                \"category_code\": 1, \n",
    "                                \"tag_list\": 1,\n",
    "                                \"total_money_raised\": 1,\n",
    "                                \"offices.country_code\" : 1, \n",
    "                                \"offices.city\" : 1, \n",
    "                                \"offices.zip_code\" : 1, \n",
    "                                \"offices.latitude\" : 1, \n",
    "                                \"offices.longitude\" : 1}\n",
    "\n",
    "tech_companies_list = list(c.find(tech_cat_or_descr_or_tags, projection_name_category_tags).sort(\"offices.city\", 1))"
   ]
  },
  {
   "cell_type": "code",
   "execution_count": 10,
   "metadata": {},
   "outputs": [],
   "source": [
    "df_tech_general = pd.DataFrame(tech_companies_list)"
   ]
  },
  {
   "cell_type": "code",
   "execution_count": 11,
   "metadata": {},
   "outputs": [
    {
     "data": {
      "text/html": [
       "<div>\n",
       "<style scoped>\n",
       "    .dataframe tbody tr th:only-of-type {\n",
       "        vertical-align: middle;\n",
       "    }\n",
       "\n",
       "    .dataframe tbody tr th {\n",
       "        vertical-align: top;\n",
       "    }\n",
       "\n",
       "    .dataframe thead th {\n",
       "        text-align: right;\n",
       "    }\n",
       "</style>\n",
       "<table border=\"1\" class=\"dataframe\">\n",
       "  <thead>\n",
       "    <tr style=\"text-align: right;\">\n",
       "      <th></th>\n",
       "      <th>name</th>\n",
       "      <th>category_code</th>\n",
       "      <th>tag_list</th>\n",
       "      <th>total_money_raised</th>\n",
       "      <th>offices</th>\n",
       "    </tr>\n",
       "  </thead>\n",
       "  <tbody>\n",
       "    <tr>\n",
       "      <th>36</th>\n",
       "      <td>Technopolis Ventures Ltd</td>\n",
       "      <td>None</td>\n",
       "      <td>None</td>\n",
       "      <td>$0</td>\n",
       "      <td>[]</td>\n",
       "    </tr>\n",
       "    <tr>\n",
       "      <th>273</th>\n",
       "      <td>PERSONALRIA</td>\n",
       "      <td>web</td>\n",
       "      <td>techcrunch50, tc50</td>\n",
       "      <td>$0</td>\n",
       "      <td>[{'zip_code': '98682', 'city': 'Vancouver', 'c...</td>\n",
       "    </tr>\n",
       "    <tr>\n",
       "      <th>172</th>\n",
       "      <td>Wired Magazine</td>\n",
       "      <td>mobile</td>\n",
       "      <td>technology, magazine, internet, web, business,...</td>\n",
       "      <td>$0</td>\n",
       "      <td>[{'zip_code': 'NY 10036', 'city': 'New York', ...</td>\n",
       "    </tr>\n",
       "    <tr>\n",
       "      <th>277</th>\n",
       "      <td>RustyBrick</td>\n",
       "      <td>mobile</td>\n",
       "      <td></td>\n",
       "      <td>$0</td>\n",
       "      <td>[{'zip_code': '10994', 'city': 'West Nyack', '...</td>\n",
       "    </tr>\n",
       "    <tr>\n",
       "      <th>254</th>\n",
       "      <td>GamerTrainer</td>\n",
       "      <td>other</td>\n",
       "      <td></td>\n",
       "      <td>$0</td>\n",
       "      <td>[{'zip_code': '44139', 'city': 'Solon', 'count...</td>\n",
       "    </tr>\n",
       "  </tbody>\n",
       "</table>\n",
       "</div>"
      ],
      "text/plain": [
       "                         name category_code  \\\n",
       "36   Technopolis Ventures Ltd          None   \n",
       "273               PERSONALRIA           web   \n",
       "172            Wired Magazine        mobile   \n",
       "277                RustyBrick        mobile   \n",
       "254              GamerTrainer         other   \n",
       "\n",
       "                                              tag_list total_money_raised  \\\n",
       "36                                                None                 $0   \n",
       "273                                 techcrunch50, tc50                 $0   \n",
       "172  technology, magazine, internet, web, business,...                 $0   \n",
       "277                                                                    $0   \n",
       "254                                                                    $0   \n",
       "\n",
       "                                               offices  \n",
       "36                                                  []  \n",
       "273  [{'zip_code': '98682', 'city': 'Vancouver', 'c...  \n",
       "172  [{'zip_code': 'NY 10036', 'city': 'New York', ...  \n",
       "277  [{'zip_code': '10994', 'city': 'West Nyack', '...  \n",
       "254  [{'zip_code': '44139', 'city': 'Solon', 'count...  "
      ]
     },
     "execution_count": 11,
     "metadata": {},
     "output_type": "execute_result"
    }
   ],
   "source": [
    "df_tech_general.sample(5)"
   ]
  },
  {
   "cell_type": "code",
   "execution_count": 12,
   "metadata": {},
   "outputs": [],
   "source": [
    "design_name_regex = {\"name\":{\"$regex\":\"design\", \"$options\":\"i\"}}\n",
    "design_category_regex ={\"category_code\":{\"$regex\":\"design\", \"$options\":\"i\"}}\n",
    "design_description_regex = {\"description\":{\"$regex\":\"design\", \"$options\":\"i\"}}\n",
    "design_tags_regex = {\"tag_list\":{\"$regex\":\"design\", \"$options\":\"i\"}}\n",
    "\n",
    "design_cat_or_descr_or_tags = {\"$or\": [design_name_regex, design_category_regex, design_description_regex, design_tags_regex]}\n",
    "\n",
    "design_projection_name_category_tags = {\"_id\" : 0, \n",
    "                                        \"name\" : 1, \n",
    "                                        \"category_code\": 1, \n",
    "                                        \"tag_list\": 1,\n",
    "                                        \"offices.country_code\" : 1, \n",
    "                                        \"offices.city\" : 1, \n",
    "                                        \"offices.zip_code\" : 1, \n",
    "                                        \"offices.latitude\" : 1, \n",
    "                                        \"offices.longitude\" : 1}\n",
    "\n",
    "design_companies_list = list(c.find(design_cat_or_descr_or_tags, design_projection_name_category_tags).sort(\"offices.city\", 1))"
   ]
  },
  {
   "cell_type": "code",
   "execution_count": 13,
   "metadata": {},
   "outputs": [
    {
     "data": {
      "text/plain": [
       "779"
      ]
     },
     "execution_count": 13,
     "metadata": {},
     "output_type": "execute_result"
    }
   ],
   "source": [
    "len(design_companies_list)"
   ]
  },
  {
   "cell_type": "code",
   "execution_count": 14,
   "metadata": {},
   "outputs": [],
   "source": [
    "df_design = pd.DataFrame(design_companies_list)"
   ]
  },
  {
   "cell_type": "code",
   "execution_count": 25,
   "metadata": {},
   "outputs": [
    {
     "data": {
      "text/plain": [
       "[{'zip_code': '700064',\n",
       "  'city': 'kolkata',\n",
       "  'country_code': 'IND',\n",
       "  'latitude': None,\n",
       "  'longitude': None}]"
      ]
     },
     "execution_count": 25,
     "metadata": {},
     "output_type": "execute_result"
    }
   ],
   "source": [
    "df_design.offices[775]"
   ]
  },
  {
   "cell_type": "code",
   "execution_count": null,
   "metadata": {},
   "outputs": [],
   "source": [
    "def split_dic_df_columns(dataframe, dataframe_column):\n",
    "    \n",
    "\n",
    "\n",
    "    return"
   ]
  },
  {
   "cell_type": "code",
   "execution_count": null,
   "metadata": {},
   "outputs": [],
   "source": []
  },
  {
   "cell_type": "code",
   "execution_count": null,
   "metadata": {},
   "outputs": [],
   "source": []
  }
 ],
 "metadata": {
  "kernelspec": {
   "display_name": "ironhack",
   "language": "python",
   "name": "python3"
  },
  "language_info": {
   "codemirror_mode": {
    "name": "ipython",
    "version": 3
   },
   "file_extension": ".py",
   "mimetype": "text/x-python",
   "name": "python",
   "nbconvert_exporter": "python",
   "pygments_lexer": "ipython3",
   "version": "3.10.4"
  },
  "orig_nbformat": 4,
  "vscode": {
   "interpreter": {
    "hash": "4fb3542bd4955df1568bd30556108f2a509a772a1c7029bb09d83fc983cd9288"
   }
  }
 },
 "nbformat": 4,
 "nbformat_minor": 2
}
