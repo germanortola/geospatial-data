{
 "cells": [
  {
   "cell_type": "code",
   "execution_count": 17,
   "metadata": {},
   "outputs": [],
   "source": [
    "from pymongo import MongoClient\n",
    "import pandas as pd\n",
    "import time\n",
    "import geopandas as gdp\n",
    "from cartoframes.viz import Map, Layer, popup_element\n",
    "from dotenv import load_dotenv\n",
    "from getpass import getpass\n"
   ]
  },
  {
   "cell_type": "code",
   "execution_count": 18,
   "metadata": {},
   "outputs": [],
   "source": [
    "client = MongoClient(\"localhost:27017\")\n",
    "\n",
    "db = client[\"ironhack\"]\n"
   ]
  },
  {
   "cell_type": "code",
   "execution_count": 19,
   "metadata": {},
   "outputs": [
    {
     "data": {
      "text/plain": [
       "['nyrest', 'Crunchbase', 'restaurants', 'nyneigh']"
      ]
     },
     "execution_count": 19,
     "metadata": {},
     "output_type": "execute_result"
    }
   ],
   "source": [
    "db.list_collection_names()"
   ]
  },
  {
   "cell_type": "code",
   "execution_count": 20,
   "metadata": {},
   "outputs": [],
   "source": [
    "c = db.get_collection(\"Crunchbase\")"
   ]
  },
  {
   "cell_type": "code",
   "execution_count": 22,
   "metadata": {},
   "outputs": [],
   "source": [
    "token = getpass()"
   ]
  },
  {
   "cell_type": "code",
   "execution_count": 23,
   "metadata": {},
   "outputs": [],
   "source": [
    "company_category = set()"
   ]
  },
  {
   "cell_type": "code",
   "execution_count": 45,
   "metadata": {},
   "outputs": [],
   "source": [
    "# category1 = { \"category_code\" : {\"$exists\": true, \"$ne\": \"null\"}}\n",
    "tech_name_regex = {\"name\":{\"$regex\":\"^(tech|frontend|backend|web develop|ux develop|ui develop|gaming|gamer)\", \"$options\":\"i\"}}\n",
    "tech_category_regex ={\"category_code\":{\"$regex\":\"^(tech|frontend|backend|web develop|ux develop|ui develop|gaming|gamer)\", \"$options\":\"i\"}}\n",
    "tech_description_regex = {\"description\":{\"$regex\":\"^(tech|frontend|backend|web develop|ux develop|ui develop|gaming|gamer)\", \"$options\":\"i\"}}\n",
    "tech_tags_regex = {\"tag_list\":{\"$regex\":\"^(tech|frontend|backend|web develop|ux develop|ui develop|gaming|gamer)\", \"$options\":\"i\"}}\n",
    "\n",
    "tech_cat_or_descr_or_tags = {\"$or\": [tech_name_regex, tech_category_regex, tech_description_regex, tech_tags_regex]}\n",
    "\n",
    "projection_name_category_tags = {\"_id\" : 0, \n",
    "                                \"name\" : 1, \n",
    "                                \"category_code\": 1, \n",
    "                                \"tag_list\": 1,\n",
    "                                \"total_money_raised\": 1,\n",
    "                                \"offices.country_code\" : 1, \n",
    "                                \"offices.city\" : 1, \n",
    "                                \"offices.zip_code\" : 1, \n",
    "                                \"offices.latitude\" : 1, \n",
    "                                \"offices.longitude\" : 1}\n",
    "\n",
    "tech_companies_list = list(c.find(tech_cat_or_descr_or_tags, projection_name_category_tags).sort(\"offices.city\", 1))"
   ]
  },
  {
   "cell_type": "code",
   "execution_count": 47,
   "metadata": {},
   "outputs": [],
   "source": [
    "df_tech_general = pd.DataFrame(tech_companies_list)"
   ]
  },
  {
   "cell_type": "code",
   "execution_count": 88,
   "metadata": {},
   "outputs": [
    {
     "data": {
      "text/html": [
       "<div>\n",
       "<style scoped>\n",
       "    .dataframe tbody tr th:only-of-type {\n",
       "        vertical-align: middle;\n",
       "    }\n",
       "\n",
       "    .dataframe tbody tr th {\n",
       "        vertical-align: top;\n",
       "    }\n",
       "\n",
       "    .dataframe thead th {\n",
       "        text-align: right;\n",
       "    }\n",
       "</style>\n",
       "<table border=\"1\" class=\"dataframe\">\n",
       "  <thead>\n",
       "    <tr style=\"text-align: right;\">\n",
       "      <th></th>\n",
       "      <th>name</th>\n",
       "      <th>category_code</th>\n",
       "      <th>tag_list</th>\n",
       "      <th>total_money_raised</th>\n",
       "      <th>offices</th>\n",
       "    </tr>\n",
       "  </thead>\n",
       "  <tbody>\n",
       "    <tr>\n",
       "      <th>107</th>\n",
       "      <td>Holdsworth Associates</td>\n",
       "      <td>public_relations</td>\n",
       "      <td>pr, public-relations, communications, marketin...</td>\n",
       "      <td>$0</td>\n",
       "      <td>[{'zip_code': 'CB24 4QG', 'city': 'Cambridge',...</td>\n",
       "    </tr>\n",
       "    <tr>\n",
       "      <th>257</th>\n",
       "      <td>TechTeam Global</td>\n",
       "      <td>enterprise</td>\n",
       "      <td></td>\n",
       "      <td>$0</td>\n",
       "      <td>[{'zip_code': '48033', 'city': 'Southfield', '...</td>\n",
       "    </tr>\n",
       "    <tr>\n",
       "      <th>258</th>\n",
       "      <td>FileFront</td>\n",
       "      <td>web</td>\n",
       "      <td></td>\n",
       "      <td>$0</td>\n",
       "      <td>[{'zip_code': '77388', 'city': 'Spring', 'coun...</td>\n",
       "    </tr>\n",
       "    <tr>\n",
       "      <th>283</th>\n",
       "      <td>GoPlanit</td>\n",
       "      <td>web</td>\n",
       "      <td>techcrunch50, tc50, travel, trip-planner, mobi...</td>\n",
       "      <td>$500k</td>\n",
       "      <td>[{'zip_code': '94111', 'city': 'san francisco'...</td>\n",
       "    </tr>\n",
       "    <tr>\n",
       "      <th>150</th>\n",
       "      <td>Quant the News</td>\n",
       "      <td>web</td>\n",
       "      <td>techcrunch50, tc50, finance, subscription-serv...</td>\n",
       "      <td>$150k</td>\n",
       "      <td>[{'zip_code': '90067', 'city': 'Los Angeles', ...</td>\n",
       "    </tr>\n",
       "  </tbody>\n",
       "</table>\n",
       "</div>"
      ],
      "text/plain": [
       "                      name     category_code  \\\n",
       "107  Holdsworth Associates  public_relations   \n",
       "257        TechTeam Global        enterprise   \n",
       "258              FileFront               web   \n",
       "283               GoPlanit               web   \n",
       "150         Quant the News               web   \n",
       "\n",
       "                                              tag_list total_money_raised  \\\n",
       "107  pr, public-relations, communications, marketin...                 $0   \n",
       "257                                                                    $0   \n",
       "258                                                                    $0   \n",
       "283  techcrunch50, tc50, travel, trip-planner, mobi...              $500k   \n",
       "150  techcrunch50, tc50, finance, subscription-serv...              $150k   \n",
       "\n",
       "                                               offices  \n",
       "107  [{'zip_code': 'CB24 4QG', 'city': 'Cambridge',...  \n",
       "257  [{'zip_code': '48033', 'city': 'Southfield', '...  \n",
       "258  [{'zip_code': '77388', 'city': 'Spring', 'coun...  \n",
       "283  [{'zip_code': '94111', 'city': 'san francisco'...  \n",
       "150  [{'zip_code': '90067', 'city': 'Los Angeles', ...  "
      ]
     },
     "execution_count": 88,
     "metadata": {},
     "output_type": "execute_result"
    }
   ],
   "source": [
    "df_tech_general.sample(5)"
   ]
  },
  {
   "cell_type": "code",
   "execution_count": 89,
   "metadata": {},
   "outputs": [],
   "source": [
    "design_name_regex = {\"name\":{\"$regex\":\"design\", \"$options\":\"i\"}}\n",
    "design_category_regex ={\"category_code\":{\"$regex\":\"design\", \"$options\":\"i\"}}\n",
    "design_description_regex = {\"description\":{\"$regex\":\"design\", \"$options\":\"i\"}}\n",
    "design_tags_regex = {\"tag_list\":{\"$regex\":\"design\", \"$options\":\"i\"}}\n",
    "\n",
    "design_cat_or_descr_or_tags = {\"$or\": [design_name_regex, design_category_regex, design_description_regex, design_tags_regex]}\n",
    "\n",
    "design_projection_name_category_tags = {\"_id\" : 0, \n",
    "                                        \"name\" : 1, \n",
    "                                        \"category_code\": 1, \n",
    "                                        \"tag_list\": 1,\n",
    "                                        \"offices.country_code\" : 1, \n",
    "                                        \"offices.city\" : 1, \n",
    "                                        \"offices.zip_code\" : 1, \n",
    "                                        \"offices.latitude\" : 1, \n",
    "                                        \"offices.longitude\" : 1}\n",
    "\n",
    "design_companies_list = list(c.find(design_cat_or_descr_or_tags, design_projection_name_category_tags).sort(\"offices.city\", 1))"
   ]
  },
  {
   "cell_type": "code",
   "execution_count": 90,
   "metadata": {},
   "outputs": [
    {
     "data": {
      "text/plain": [
       "779"
      ]
     },
     "execution_count": 90,
     "metadata": {},
     "output_type": "execute_result"
    }
   ],
   "source": [
    "len(design_companies_list)"
   ]
  },
  {
   "cell_type": "code",
   "execution_count": 91,
   "metadata": {},
   "outputs": [],
   "source": [
    "df_design = pd.DataFrame(design_companies_list)"
   ]
  },
  {
   "cell_type": "code",
   "execution_count": 96,
   "metadata": {},
   "outputs": [
    {
     "data": {
      "text/html": [
       "<div>\n",
       "<style scoped>\n",
       "    .dataframe tbody tr th:only-of-type {\n",
       "        vertical-align: middle;\n",
       "    }\n",
       "\n",
       "    .dataframe tbody tr th {\n",
       "        vertical-align: top;\n",
       "    }\n",
       "\n",
       "    .dataframe thead th {\n",
       "        text-align: right;\n",
       "    }\n",
       "</style>\n",
       "<table border=\"1\" class=\"dataframe\">\n",
       "  <thead>\n",
       "    <tr style=\"text-align: right;\">\n",
       "      <th></th>\n",
       "      <th>name</th>\n",
       "      <th>category_code</th>\n",
       "      <th>tag_list</th>\n",
       "      <th>offices</th>\n",
       "    </tr>\n",
       "  </thead>\n",
       "  <tbody>\n",
       "    <tr>\n",
       "      <th>471</th>\n",
       "      <td>FUSE</td>\n",
       "      <td>web</td>\n",
       "      <td>web-design, 3d, 3d-animation, microsite, widge...</td>\n",
       "      <td>[{'zip_code': 'W1D 7AZ', 'city': 'London', 'co...</td>\n",
       "    </tr>\n",
       "    <tr>\n",
       "      <th>180</th>\n",
       "      <td>Web:Studio</td>\n",
       "      <td>network_hosting</td>\n",
       "      <td>web-design, web-hosting, domain-names, graphic...</td>\n",
       "      <td>[{'zip_code': 'Co Louth', 'city': 'Ardee', 'co...</td>\n",
       "    </tr>\n",
       "    <tr>\n",
       "      <th>5</th>\n",
       "      <td>modula</td>\n",
       "      <td>search</td>\n",
       "      <td>web-design, software-development, graphic-desi...</td>\n",
       "      <td>[]</td>\n",
       "    </tr>\n",
       "    <tr>\n",
       "      <th>640</th>\n",
       "      <td>Phu Concepts</td>\n",
       "      <td>advertising</td>\n",
       "      <td>phu-concepts-inc, web-design, viet, latrell, v...</td>\n",
       "      <td>[{'zip_code': '14605', 'city': 'Rochester', 'c...</td>\n",
       "    </tr>\n",
       "    <tr>\n",
       "      <th>652</th>\n",
       "      <td>IncSpring</td>\n",
       "      <td>public_relations</td>\n",
       "      <td>logo, logo-design, brand, branding, marketing,...</td>\n",
       "      <td>[{'zip_code': '78216', 'city': 'San Antonio', ...</td>\n",
       "    </tr>\n",
       "  </tbody>\n",
       "</table>\n",
       "</div>"
      ],
      "text/plain": [
       "             name     category_code  \\\n",
       "471          FUSE               web   \n",
       "180    Web:Studio   network_hosting   \n",
       "5          modula            search   \n",
       "640  Phu Concepts       advertising   \n",
       "652     IncSpring  public_relations   \n",
       "\n",
       "                                              tag_list  \\\n",
       "471  web-design, 3d, 3d-animation, microsite, widge...   \n",
       "180  web-design, web-hosting, domain-names, graphic...   \n",
       "5    web-design, software-development, graphic-desi...   \n",
       "640  phu-concepts-inc, web-design, viet, latrell, v...   \n",
       "652  logo, logo-design, brand, branding, marketing,...   \n",
       "\n",
       "                                               offices  \n",
       "471  [{'zip_code': 'W1D 7AZ', 'city': 'London', 'co...  \n",
       "180  [{'zip_code': 'Co Louth', 'city': 'Ardee', 'co...  \n",
       "5                                                   []  \n",
       "640  [{'zip_code': '14605', 'city': 'Rochester', 'c...  \n",
       "652  [{'zip_code': '78216', 'city': 'San Antonio', ...  "
      ]
     },
     "execution_count": 96,
     "metadata": {},
     "output_type": "execute_result"
    }
   ],
   "source": [
    "df_design.sample(5)"
   ]
  },
  {
   "cell_type": "code",
   "execution_count": null,
   "metadata": {},
   "outputs": [],
   "source": []
  },
  {
   "cell_type": "code",
   "execution_count": null,
   "metadata": {},
   "outputs": [],
   "source": []
  },
  {
   "cell_type": "code",
   "execution_count": null,
   "metadata": {},
   "outputs": [],
   "source": []
  }
 ],
 "metadata": {
  "kernelspec": {
   "display_name": "ironhack",
   "language": "python",
   "name": "python3"
  },
  "language_info": {
   "codemirror_mode": {
    "name": "ipython",
    "version": 3
   },
   "file_extension": ".py",
   "mimetype": "text/x-python",
   "name": "python",
   "nbconvert_exporter": "python",
   "pygments_lexer": "ipython3",
   "version": "3.10.4"
  },
  "orig_nbformat": 4,
  "vscode": {
   "interpreter": {
    "hash": "4fb3542bd4955df1568bd30556108f2a509a772a1c7029bb09d83fc983cd9288"
   }
  }
 },
 "nbformat": 4,
 "nbformat_minor": 2
}
